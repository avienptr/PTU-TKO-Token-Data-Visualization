{
 "cells": [
  {
   "cell_type": "markdown",
   "id": "b18da34c-b4a7-4332-ba9e-c23d262712f5",
   "metadata": {},
   "source": [
    "Initialize Project"
   ]
  },
  {
   "cell_type": "code",
   "execution_count": 1,
   "id": "92d9b2be-70f3-42b8-af78-a28212a2849a",
   "metadata": {},
   "outputs": [
    {
     "name": "stdout",
     "output_type": "stream",
     "text": [
      "                  snapped_at     price  market_cap  total_volume\n",
      "0    2021-11-25 00:00:00 UTC  2.590822         0.0  2.959917e+07\n",
      "1    2021-11-26 00:00:00 UTC  2.590822         0.0  2.959917e+07\n",
      "2    2021-11-27 00:00:00 UTC  2.098028         0.0  5.513169e+06\n",
      "3    2021-11-28 00:00:00 UTC  1.818881         0.0  1.705686e+06\n",
      "4    2021-11-29 00:00:00 UTC  1.615716         0.0  1.195281e+06\n",
      "..                       ...       ...         ...           ...\n",
      "347  2022-11-07 00:00:00 UTC  0.586705         0.0  8.347230e+04\n",
      "348  2022-11-08 00:00:00 UTC  0.588305         0.0  3.770127e+04\n",
      "349  2022-11-09 00:00:00 UTC  0.528493         0.0  3.934057e+04\n",
      "350  2022-11-10 00:00:00 UTC  0.458720         0.0  4.033353e+04\n",
      "351  2022-11-11 00:00:00 UTC  0.362596         0.0  2.227036e+05\n",
      "\n",
      "[352 rows x 4 columns] \n",
      "                   snapped_at     price    market_cap  total_volume\n",
      "0    2021-04-07 00:00:00 UTC  2.947387  2.154774e+08  1.317812e+09\n",
      "1    2021-04-08 00:00:00 UTC  2.947387  2.154774e+08  1.317812e+09\n",
      "2    2021-04-09 00:00:00 UTC  2.407837  1.803255e+08  3.015674e+08\n",
      "3    2021-04-10 00:00:00 UTC  2.231980  1.673449e+08  1.063142e+08\n",
      "4    2021-04-11 00:00:00 UTC  2.337435  1.750804e+08  1.075476e+08\n",
      "..                       ...       ...           ...           ...\n",
      "579  2022-11-07 00:00:00 UTC  0.248478  1.867089e+07  1.552888e+06\n",
      "580  2022-11-08 00:00:00 UTC  0.243075  1.824585e+07  1.186567e+06\n",
      "581  2022-11-09 00:00:00 UTC  0.209308  1.574994e+07  8.572592e+06\n",
      "582  2022-11-10 00:00:00 UTC  0.172923  1.295297e+07  2.559961e+06\n",
      "583  2022-11-11 00:00:00 UTC  0.200963  1.506406e+07  2.048591e+06\n",
      "\n",
      "[584 rows x 4 columns] \n",
      "\n",
      "<class 'pandas.core.frame.DataFrame'>\n",
      "RangeIndex: 352 entries, 0 to 351\n",
      "Data columns (total 4 columns):\n",
      " #   Column        Non-Null Count  Dtype  \n",
      "---  ------        --------------  -----  \n",
      " 0   snapped_at    352 non-null    object \n",
      " 1   price         352 non-null    float64\n",
      " 2   market_cap    352 non-null    float64\n",
      " 3   total_volume  352 non-null    float64\n",
      "dtypes: float64(3), object(1)\n",
      "memory usage: 11.1+ KB\n",
      "\n",
      "\n",
      "<class 'pandas.core.frame.DataFrame'>\n",
      "RangeIndex: 584 entries, 0 to 583\n",
      "Data columns (total 4 columns):\n",
      " #   Column        Non-Null Count  Dtype  \n",
      "---  ------        --------------  -----  \n",
      " 0   snapped_at    584 non-null    object \n",
      " 1   price         584 non-null    float64\n",
      " 2   market_cap    584 non-null    float64\n",
      " 3   total_volume  584 non-null    float64\n",
      "dtypes: float64(3), object(1)\n",
      "memory usage: 18.4+ KB\n"
     ]
    }
   ],
   "source": [
    "import numpy as np\n",
    "import pandas as pd\n",
    "import datetime\n",
    "import matplotlib\n",
    "import matplotlib.pyplot as plt\n",
    "\n",
    "\n",
    "ptudf = pd.read_csv(r'C:\\Users\\avien\\OneDrive\\Documents\\PTU x TKO Project Dataset\\ptu-usd.csv')\n",
    "tkodf = pd.read_csv(r'C:\\Users\\avien\\OneDrive\\Documents\\PTU x TKO Project Dataset\\tko-usd.csv')\n",
    "print(ptudf, '\\n', tkodf, '\\n')\n",
    "ptudf.info()\n",
    "print('\\n')\n",
    "tkodf.info()"
   ]
  },
  {
   "cell_type": "markdown",
   "id": "ef7e5e9f-f2d7-4b55-a9f5-4054c72ff58a",
   "metadata": {},
   "source": [
    "Data Cleaning"
   ]
  },
  {
   "cell_type": "code",
   "execution_count": 2,
   "id": "483797f6-9747-4b64-aab8-b50574e980cf",
   "metadata": {},
   "outputs": [],
   "source": [
    "del ptudf['market_cap']\n",
    "del ptudf['total_volume']\n",
    "del tkodf['market_cap']\n",
    "del tkodf['total_volume']"
   ]
  },
  {
   "cell_type": "code",
   "execution_count": 12,
   "id": "bc830af1-73eb-48ec-9708-fdbd4fd5ab5e",
   "metadata": {},
   "outputs": [
    {
     "data": {
      "text/html": [
       "<div>\n",
       "<style scoped>\n",
       "    .dataframe tbody tr th:only-of-type {\n",
       "        vertical-align: middle;\n",
       "    }\n",
       "\n",
       "    .dataframe tbody tr th {\n",
       "        vertical-align: top;\n",
       "    }\n",
       "\n",
       "    .dataframe thead th {\n",
       "        text-align: right;\n",
       "    }\n",
       "</style>\n",
       "<table border=\"1\" class=\"dataframe\">\n",
       "  <thead>\n",
       "    <tr style=\"text-align: right;\">\n",
       "      <th></th>\n",
       "      <th>snapped_at</th>\n",
       "      <th>price</th>\n",
       "    </tr>\n",
       "  </thead>\n",
       "  <tbody>\n",
       "    <tr>\n",
       "      <th>0</th>\n",
       "      <td>2021-11-25 00:00:00+00:00</td>\n",
       "      <td>2.590822</td>\n",
       "    </tr>\n",
       "    <tr>\n",
       "      <th>1</th>\n",
       "      <td>2021-11-26 00:00:00+00:00</td>\n",
       "      <td>2.590822</td>\n",
       "    </tr>\n",
       "    <tr>\n",
       "      <th>2</th>\n",
       "      <td>2021-11-27 00:00:00+00:00</td>\n",
       "      <td>2.098028</td>\n",
       "    </tr>\n",
       "    <tr>\n",
       "      <th>3</th>\n",
       "      <td>2021-11-28 00:00:00+00:00</td>\n",
       "      <td>1.818881</td>\n",
       "    </tr>\n",
       "    <tr>\n",
       "      <th>4</th>\n",
       "      <td>2021-11-29 00:00:00+00:00</td>\n",
       "      <td>1.615716</td>\n",
       "    </tr>\n",
       "  </tbody>\n",
       "</table>\n",
       "</div>"
      ],
      "text/plain": [
       "                 snapped_at     price\n",
       "0 2021-11-25 00:00:00+00:00  2.590822\n",
       "1 2021-11-26 00:00:00+00:00  2.590822\n",
       "2 2021-11-27 00:00:00+00:00  2.098028\n",
       "3 2021-11-28 00:00:00+00:00  1.818881\n",
       "4 2021-11-29 00:00:00+00:00  1.615716"
      ]
     },
     "execution_count": 12,
     "metadata": {},
     "output_type": "execute_result"
    }
   ],
   "source": [
    "ptudf.head()"
   ]
  },
  {
   "cell_type": "code",
   "execution_count": 13,
   "id": "04e2c1d6-240c-4844-8002-6bc715b87b5e",
   "metadata": {},
   "outputs": [
    {
     "data": {
      "text/html": [
       "<div>\n",
       "<style scoped>\n",
       "    .dataframe tbody tr th:only-of-type {\n",
       "        vertical-align: middle;\n",
       "    }\n",
       "\n",
       "    .dataframe tbody tr th {\n",
       "        vertical-align: top;\n",
       "    }\n",
       "\n",
       "    .dataframe thead th {\n",
       "        text-align: right;\n",
       "    }\n",
       "</style>\n",
       "<table border=\"1\" class=\"dataframe\">\n",
       "  <thead>\n",
       "    <tr style=\"text-align: right;\">\n",
       "      <th></th>\n",
       "      <th>snapped_at</th>\n",
       "      <th>price</th>\n",
       "    </tr>\n",
       "  </thead>\n",
       "  <tbody>\n",
       "    <tr>\n",
       "      <th>0</th>\n",
       "      <td>2021-04-07 00:00:00+00:00</td>\n",
       "      <td>2.947387</td>\n",
       "    </tr>\n",
       "    <tr>\n",
       "      <th>1</th>\n",
       "      <td>2021-04-08 00:00:00+00:00</td>\n",
       "      <td>2.947387</td>\n",
       "    </tr>\n",
       "    <tr>\n",
       "      <th>2</th>\n",
       "      <td>2021-04-09 00:00:00+00:00</td>\n",
       "      <td>2.407837</td>\n",
       "    </tr>\n",
       "    <tr>\n",
       "      <th>3</th>\n",
       "      <td>2021-04-10 00:00:00+00:00</td>\n",
       "      <td>2.231980</td>\n",
       "    </tr>\n",
       "    <tr>\n",
       "      <th>4</th>\n",
       "      <td>2021-04-11 00:00:00+00:00</td>\n",
       "      <td>2.337435</td>\n",
       "    </tr>\n",
       "  </tbody>\n",
       "</table>\n",
       "</div>"
      ],
      "text/plain": [
       "                 snapped_at     price\n",
       "0 2021-04-07 00:00:00+00:00  2.947387\n",
       "1 2021-04-08 00:00:00+00:00  2.947387\n",
       "2 2021-04-09 00:00:00+00:00  2.407837\n",
       "3 2021-04-10 00:00:00+00:00  2.231980\n",
       "4 2021-04-11 00:00:00+00:00  2.337435"
      ]
     },
     "execution_count": 13,
     "metadata": {},
     "output_type": "execute_result"
    }
   ],
   "source": [
    "tkodf.head()"
   ]
  },
  {
   "cell_type": "code",
   "execution_count": 3,
   "id": "db0eba88-0064-4da8-a4af-a493dc7a6434",
   "metadata": {},
   "outputs": [
    {
     "name": "stdout",
     "output_type": "stream",
     "text": [
      "snapped_at    0\n",
      "price         0\n",
      "dtype: int64\n",
      "snapped_at    0\n",
      "price         0\n",
      "dtype: int64\n"
     ]
    }
   ],
   "source": [
    "ptunull = ptudf.isnull().sum()\n",
    "tkonull = tkodf.isnull().sum()\n",
    "print(ptunull)\n",
    "print(tkonull)"
   ]
  },
  {
   "cell_type": "code",
   "execution_count": 4,
   "id": "f794831d-30f5-4aa3-8000-5bd22b07de66",
   "metadata": {},
   "outputs": [
    {
     "data": {
      "text/plain": [
       "'2021-11-25 00:00:00 UTC'"
      ]
     },
     "execution_count": 4,
     "metadata": {},
     "output_type": "execute_result"
    }
   ],
   "source": [
    "ptudf.loc[0, 'snapped_at']"
   ]
  },
  {
   "cell_type": "code",
   "execution_count": 5,
   "id": "c941245d-112c-4e24-b847-3d373f7a18ad",
   "metadata": {},
   "outputs": [
    {
     "data": {
      "text/plain": [
       "0     2021-11-25 00:00:00+00:00\n",
       "1     2021-11-26 00:00:00+00:00\n",
       "2     2021-11-27 00:00:00+00:00\n",
       "3     2021-11-28 00:00:00+00:00\n",
       "4     2021-11-29 00:00:00+00:00\n",
       "                 ...           \n",
       "347   2022-11-07 00:00:00+00:00\n",
       "348   2022-11-08 00:00:00+00:00\n",
       "349   2022-11-09 00:00:00+00:00\n",
       "350   2022-11-10 00:00:00+00:00\n",
       "351   2022-11-11 00:00:00+00:00\n",
       "Name: snapped_at, Length: 352, dtype: datetime64[ns, UTC]"
      ]
     },
     "execution_count": 5,
     "metadata": {},
     "output_type": "execute_result"
    }
   ],
   "source": [
    "ptudf['snapped_at'] = pd.to_datetime(ptudf['snapped_at'], format='%Y-%m-%d %H:%M:%S %Z')\n",
    "ptudf['snapped_at']"
   ]
  },
  {
   "cell_type": "code",
   "execution_count": 6,
   "id": "00fdb55a-d2b5-4ca4-b2a7-99f23b63d4ee",
   "metadata": {},
   "outputs": [
    {
     "data": {
      "text/plain": [
       "'2021-04-07 00:00:00 UTC'"
      ]
     },
     "execution_count": 6,
     "metadata": {},
     "output_type": "execute_result"
    }
   ],
   "source": [
    "tkodf.loc[0, 'snapped_at']"
   ]
  },
  {
   "cell_type": "code",
   "execution_count": 7,
   "id": "0954e1c6-15c6-4638-bad4-7fd5323d9904",
   "metadata": {},
   "outputs": [
    {
     "data": {
      "text/plain": [
       "0     2021-04-07 00:00:00+00:00\n",
       "1     2021-04-08 00:00:00+00:00\n",
       "2     2021-04-09 00:00:00+00:00\n",
       "3     2021-04-10 00:00:00+00:00\n",
       "4     2021-04-11 00:00:00+00:00\n",
       "                 ...           \n",
       "579   2022-11-07 00:00:00+00:00\n",
       "580   2022-11-08 00:00:00+00:00\n",
       "581   2022-11-09 00:00:00+00:00\n",
       "582   2022-11-10 00:00:00+00:00\n",
       "583   2022-11-11 00:00:00+00:00\n",
       "Name: snapped_at, Length: 584, dtype: datetime64[ns, UTC]"
      ]
     },
     "execution_count": 7,
     "metadata": {},
     "output_type": "execute_result"
    }
   ],
   "source": [
    "tkodf['snapped_at'] = pd.to_datetime(tkodf['snapped_at'], format='%Y-%m-%d %H:%M:%S %Z')\n",
    "tkodf['snapped_at']"
   ]
  },
  {
   "cell_type": "code",
   "execution_count": 30,
   "id": "d27bdc71-4401-49ad-99c0-c0b0d7d5e470",
   "metadata": {},
   "outputs": [
    {
     "data": {
      "text/plain": [
       "<Figure size 1000x400 with 0 Axes>"
      ]
     },
     "metadata": {},
     "output_type": "display_data"
    },
    {
     "data": {
      "image/png": "[encoded data removed]",
      "text/plain": [
       "<Figure size 640x480 with 1 Axes>"
      ]
     },
     "metadata": {},
     "output_type": "display_data"
    }
   ],
   "source": [
    "plt.figure(figsize=(10, 4))\n",
    "ptudf.plot(x='snapped_at', y='price', linewidth=1)\n",
    "plt.xlabel('Date', fontsize=10)\n",
    "plt.ylabel('Price (USD)', fontsize=10)\n",
    "plt.show()"
   ]
  },
  {
   "cell_type": "code",
   "execution_count": 29,
   "id": "acc45637-e244-4942-9abe-5cc7d143c8b5",
   "metadata": {},
   "outputs": [
    {
     "data": {
      "text/plain": [
       "<Figure size 1000x400 with 0 Axes>"
      ]
     },
     "metadata": {},
     "output_type": "display_data"
    },
    {
     "data": {
      "image/png": "[encoded data removed]",
      "text/plain": [
       "<Figure size 640x480 with 1 Axes>"
      ]
     },
     "metadata": {},
     "output_type": "display_data"
    }
   ],
   "source": [
    "plt.figure(figsize=(10, 4))\n",
    "tkodf.plot(x='snapped_at', y='price', linewidth=1)\n",
    "plt.xlabel('Date', fontsize=10)\n",
    "plt.ylabel('Price (USD)', fontsize=10)\n",
    "plt.show()"
   ]
  }
 ],
 "metadata": {
  "kernelspec": {
   "display_name": "Python 3 (ipykernel)",
   "language": "python",
   "name": "python3"
  },
  "language_info": {
   "codemirror_mode": {
    "name": "ipython",
    "version": 3
   },
   "file_extension": ".py",
   "mimetype": "text/x-python",
   "name": "python",
   "nbconvert_exporter": "python",
   "pygments_lexer": "ipython3",
   "version": "3.9.13"
  }
 },
 "nbformat": 4,
 "nbformat_minor": 5
}
